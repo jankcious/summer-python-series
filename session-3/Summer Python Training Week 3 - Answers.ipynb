{
 "cells": [
  {
   "cell_type": "markdown",
   "metadata": {},
   "source": [
    "# Python Summer Sessions: Week 3\n",
    "\n",
    "## Dictionaries\n",
    "\n",
    "### Overview\n",
    "Dictionaries are a collection of `Key` : `Value` pairs.  \n",
    "- Keys must be unique, just like a real dictionary\n",
    "- Values can be almost any object type (integer, float, string, lists, even another dictionary.\n",
    "- Entries in a dictionary are unordered"
   ]
  },
  {
   "cell_type": "code",
   "execution_count": 1,
   "metadata": {
    "collapsed": false
   },
   "outputs": [
    {
     "name": "stdout",
     "output_type": "stream",
     "text": [
      "{'Age': 88, 'First Name': 'Mickey', 'Last Name': 'Mouse', 'Movies': ['Steamboat Willie', 'Fantasia']}\n"
     ]
    }
   ],
   "source": [
    "#Create our first dictionary\n",
    "MM = {'First Name':'Mickey', 'Last Name':'Mouse', 'Age': 88, 'Movies': ['Steamboat Willie', 'Fantasia']}\n",
    "\n",
    "print(MM)"
   ]
  },
  {
   "cell_type": "markdown",
   "metadata": {},
   "source": [
    "### Dictionary methods and attributes\n",
    "\n",
    "MM is an object of type dictionary.  That means we have special methods and attributes that are specific to dictionaries available."
   ]
  },
  {
   "cell_type": "code",
   "execution_count": 2,
   "metadata": {
    "collapsed": false
   },
   "outputs": [
    {
     "name": "stdout",
     "output_type": "stream",
     "text": [
      "<class 'dict'>\n"
     ]
    }
   ],
   "source": [
    "print(type(MM))"
   ]
  },
  {
   "cell_type": "markdown",
   "metadata": {},
   "source": [
    "Execute the three statements below.  What do these three methods actually do?"
   ]
  },
  {
   "cell_type": "code",
   "execution_count": 3,
   "metadata": {
    "collapsed": false
   },
   "outputs": [
    {
     "data": {
      "text/plain": [
       "dict_keys(['Age', 'First Name', 'Last Name', 'Movies'])"
      ]
     },
     "execution_count": 3,
     "metadata": {},
     "output_type": "execute_result"
    }
   ],
   "source": [
    "MM.keys()"
   ]
  },
  {
   "cell_type": "code",
   "execution_count": 4,
   "metadata": {
    "collapsed": false
   },
   "outputs": [
    {
     "data": {
      "text/plain": [
       "dict_values([88, 'Mickey', 'Mouse', ['Steamboat Willie', 'Fantasia']])"
      ]
     },
     "execution_count": 4,
     "metadata": {},
     "output_type": "execute_result"
    }
   ],
   "source": [
    "MM.values()"
   ]
  },
  {
   "cell_type": "code",
   "execution_count": 5,
   "metadata": {
    "collapsed": false,
    "scrolled": true
   },
   "outputs": [
    {
     "data": {
      "text/plain": [
       "dict_items([('Age', 88), ('First Name', 'Mickey'), ('Last Name', 'Mouse'), ('Movies', ['Steamboat Willie', 'Fantasia'])])"
      ]
     },
     "execution_count": 5,
     "metadata": {},
     "output_type": "execute_result"
    }
   ],
   "source": [
    "MM.items()"
   ]
  },
  {
   "cell_type": "markdown",
   "metadata": {},
   "source": [
    "Below, place your cursor after `MM.` and press `<tab>`.  These are all of the methods and attributes built into dictionaries.  \n",
    "More info here: https://docs.python.org/3.4/tutorial/datastructures.html?highlight=dictionary#dictionaries"
   ]
  },
  {
   "cell_type": "code",
   "execution_count": 7,
   "metadata": {
    "collapsed": false
   },
   "outputs": [
    {
     "ename": "SyntaxError",
     "evalue": "invalid syntax (<ipython-input-7-dca3635ef8b7>, line 1)",
     "output_type": "error",
     "traceback": [
      "\u001b[1;36m  File \u001b[1;32m\"<ipython-input-7-dca3635ef8b7>\"\u001b[1;36m, line \u001b[1;32m1\u001b[0m\n\u001b[1;33m    MM.\u001b[0m\n\u001b[1;37m       ^\u001b[0m\n\u001b[1;31mSyntaxError\u001b[0m\u001b[1;31m:\u001b[0m invalid syntax\n"
     ]
    }
   ],
   "source": [
    "MM."
   ]
  },
  {
   "cell_type": "markdown",
   "metadata": {},
   "source": [
    "### How do I get information out of a dictionary?\n",
    "\n",
    "Use square brackets [ ] to look into a dictionary (similar to using them to index a string or list)."
   ]
  },
  {
   "cell_type": "code",
   "execution_count": 8,
   "metadata": {
    "collapsed": false,
    "scrolled": true
   },
   "outputs": [
    {
     "data": {
      "text/plain": [
       "'Mickey'"
      ]
     },
     "execution_count": 8,
     "metadata": {},
     "output_type": "execute_result"
    }
   ],
   "source": [
    "MM['First Name']"
   ]
  },
  {
   "cell_type": "code",
   "execution_count": 9,
   "metadata": {
    "collapsed": false
   },
   "outputs": [
    {
     "data": {
      "text/plain": [
       "'Mouse'"
      ]
     },
     "execution_count": 9,
     "metadata": {},
     "output_type": "execute_result"
    }
   ],
   "source": [
    "MM['Last Name']"
   ]
  },
  {
   "cell_type": "code",
   "execution_count": 10,
   "metadata": {
    "collapsed": false
   },
   "outputs": [
    {
     "data": {
      "text/plain": [
       "88"
      ]
     },
     "execution_count": 10,
     "metadata": {},
     "output_type": "execute_result"
    }
   ],
   "source": [
    "MM['Age']"
   ]
  },
  {
   "cell_type": "code",
   "execution_count": 11,
   "metadata": {
    "collapsed": false
   },
   "outputs": [
    {
     "name": "stdout",
     "output_type": "stream",
     "text": [
      "['Steamboat Willie', 'Fantasia']\n",
      "Fantasia\n"
     ]
    }
   ],
   "source": [
    "#The first part returns a list, which is then indexed \"[1]\" to pull out the value at index 1.\n",
    "print(MM['Movies'])\n",
    "print(MM['Movies'][1])"
   ]
  },
  {
   "cell_type": "code",
   "execution_count": 13,
   "metadata": {
    "collapsed": false
   },
   "outputs": [
    {
     "ename": "KeyError",
     "evalue": "'Best movie'",
     "output_type": "error",
     "traceback": [
      "\u001b[1;31m---------------------------------------------------------------------------\u001b[0m",
      "\u001b[1;31mKeyError\u001b[0m                                  Traceback (most recent call last)",
      "\u001b[1;32m<ipython-input-13-b9f1ae2a3b95>\u001b[0m in \u001b[0;36m<module>\u001b[1;34m()\u001b[0m\n\u001b[0;32m      1\u001b[0m \u001b[1;31m#Watch out for keys that don't exist\u001b[0m\u001b[1;33m\u001b[0m\u001b[1;33m\u001b[0m\u001b[0m\n\u001b[1;32m----> 2\u001b[1;33m \u001b[0mMM\u001b[0m\u001b[1;33m[\u001b[0m\u001b[1;34m'Best movie'\u001b[0m\u001b[1;33m]\u001b[0m\u001b[1;33m\u001b[0m\u001b[0m\n\u001b[0m",
      "\u001b[1;31mKeyError\u001b[0m: 'Best movie'"
     ]
    }
   ],
   "source": [
    "#Watch out for keys that don't exist\n",
    "MM['Best movie']"
   ]
  },
  {
   "cell_type": "markdown",
   "metadata": {},
   "source": [
    "A safe workaround is the `.get()` method"
   ]
  },
  {
   "cell_type": "code",
   "execution_count": 14,
   "metadata": {
    "collapsed": false
   },
   "outputs": [
    {
     "data": {
      "text/plain": [
       "'No such key'"
      ]
     },
     "execution_count": 14,
     "metadata": {},
     "output_type": "execute_result"
    }
   ],
   "source": [
    "MM.get('Best Movie', 'No such key')"
   ]
  },
  {
   "cell_type": "markdown",
   "metadata": {},
   "source": [
    "### How do I put information into a dictionary?  \n",
    "We don't have an entry in this dictionary to identify the best movie.  We'll add that now by placing the key in square brackets, and setting the value with an equal sign.\n",
    "\n",
    "dictionary[`new key`] = `value`"
   ]
  },
  {
   "cell_type": "code",
   "execution_count": 15,
   "metadata": {
    "collapsed": false,
    "scrolled": true
   },
   "outputs": [
    {
     "name": "stdout",
     "output_type": "stream",
     "text": [
      "{'Age': 88, 'First Name': 'Mickey', 'Last Name': 'Mouse', 'Movies': ['Steamboat Willie', 'Fantasia'], 'Best Movie': 'Two-Gun Mickey'}\n"
     ]
    }
   ],
   "source": [
    "MM['Best Movie'] = 'Two-Gun Mickey'\n",
    "print(MM)"
   ]
  },
  {
   "cell_type": "markdown",
   "metadata": {},
   "source": [
    "Let's add Two-Gun Mickey to the list of movies as well  \n",
    "First we return the list that currently has two movies with `dict1['Movies']`  \n",
    "Since it's a list we can use `.append` to add a value to the end  "
   ]
  },
  {
   "cell_type": "code",
   "execution_count": 16,
   "metadata": {
    "collapsed": false
   },
   "outputs": [
    {
     "name": "stdout",
     "output_type": "stream",
     "text": [
      "['Steamboat Willie', 'Fantasia']\n",
      "['Steamboat Willie', 'Fantasia', 'Two-Gun Mickey']\n"
     ]
    }
   ],
   "source": [
    "print(MM['Movies'])\n",
    "MM['Movies'].append('Two-Gun Mickey')\n",
    "print(MM['Movies'])"
   ]
  },
  {
   "cell_type": "markdown",
   "metadata": {},
   "source": [
    "Updating a Value: just call the existing key and set a new value.  It will overwrite whatever value was already there."
   ]
  },
  {
   "cell_type": "code",
   "execution_count": 17,
   "metadata": {
    "collapsed": false
   },
   "outputs": [
    {
     "data": {
      "text/plain": [
       "{'Age': 88,\n",
       " 'Best Movie': 'Fantasia',\n",
       " 'First Name': 'Mickey',\n",
       " 'Last Name': 'Mouse',\n",
       " 'Movies': ['Steamboat Willie', 'Fantasia', 'Two-Gun Mickey']}"
      ]
     },
     "execution_count": 17,
     "metadata": {},
     "output_type": "execute_result"
    }
   ],
   "source": [
    "MM['Best Movie'] = 'Fantasia'\n",
    "MM"
   ]
  },
  {
   "cell_type": "markdown",
   "metadata": {},
   "source": [
    "### Check for Understanding: Dictionaries\n",
    "\n",
    "`1.`  Make an English-to-French dictionary called `e2f` and `print` it.   \n",
    "\n",
    "   Here are your starter words: `dog` is `chien`, `cat` is `chat`, `walrus` is `morse`."
   ]
  },
  {
   "cell_type": "code",
   "execution_count": 2,
   "metadata": {
    "collapsed": false
   },
   "outputs": [
    {
     "name": "stdout",
     "output_type": "stream",
     "text": [
      "{'cat': 'chat', 'walrus': 'morse', 'dog': 'chien'}\n"
     ]
    }
   ],
   "source": [
    "e2f = {'dog':'chien', 'cat':'chat', 'walrus':'morse'}\n",
    "print(e2f)"
   ]
  },
  {
   "cell_type": "markdown",
   "metadata": {},
   "source": [
    "`2.` Using your three-word dictionary `e2f`, print the French word for walrus."
   ]
  },
  {
   "cell_type": "code",
   "execution_count": 3,
   "metadata": {
    "collapsed": false
   },
   "outputs": [
    {
     "name": "stdout",
     "output_type": "stream",
     "text": [
      "morse\n"
     ]
    }
   ],
   "source": [
    "print(e2f['walrus'])"
   ]
  },
  {
   "cell_type": "markdown",
   "metadata": {},
   "source": [
    "`3.`  Make a French-to-English dictionary called `f2e` from `e2f` and `print` it.  \n",
    "    _hint_: Use either the `items()` method or the `keys()` method."
   ]
  },
  {
   "cell_type": "code",
   "execution_count": 4,
   "metadata": {
    "collapsed": false
   },
   "outputs": [
    {
     "name": "stdout",
     "output_type": "stream",
     "text": [
      "{'chat': 'cat', 'chien': 'dog', 'morse': 'walrus'}\n",
      "{'chat': 'cat', 'chien': 'dog', 'morse': 'walrus'}\n",
      "{'chat': 'cat', 'chien': 'dog', 'morse': 'walrus'}\n"
     ]
    }
   ],
   "source": [
    "f2e = {}\n",
    "for e, f in e2f.items():\n",
    "    f2e[f] = e\n",
    "print(f2e)\n",
    "\n",
    "#OR\n",
    "\n",
    "f2e = {}\n",
    "for eng in e2f.keys():\n",
    "    f2e[e2f[eng]] = eng\n",
    "print(f2e)\n",
    "\n",
    "\n",
    "#Bonus: if you use the comprehensions we learned about below\n",
    "\n",
    "f2e = {f:e for e, f in e2f.items()}\n",
    "print(f2e)"
   ]
  },
  {
   "cell_type": "markdown",
   "metadata": {},
   "source": [
    "`4.`  Make and print a set of English words from the keys in e2f."
   ]
  },
  {
   "cell_type": "code",
   "execution_count": 22,
   "metadata": {
    "collapsed": false
   },
   "outputs": [
    {
     "name": "stdout",
     "output_type": "stream",
     "text": [
      "{'cat', 'walrus', 'dog'}\n"
     ]
    }
   ],
   "source": [
    "ans = set(e2f.keys())\n",
    "print(ans)"
   ]
  },
  {
   "cell_type": "markdown",
   "metadata": {},
   "source": [
    "`5.` Make a multilevel dictionary called life.  Use these strings for the topmost keys: 'animals', 'plants', and 'other'.  Make the 'animals' key refer to another dictionary with the keys 'cats', 'octopi', and 'emus'.  Make the 'cats' key refer to a list of strings with the values 'Henri', 'Grumpy', and 'Lucy'.  Make all the other keys refer to empty dictionaries."
   ]
  },
  {
   "cell_type": "code",
   "execution_count": 7,
   "metadata": {
    "collapsed": false
   },
   "outputs": [
    {
     "name": "stdout",
     "output_type": "stream",
     "text": [
      "{'plants': {}, 'animals': {'cats': ['Henri', 'Grumpy', 'Lucy'], 'octopi': {}, 'emus': {}}, 'other': {}}\n"
     ]
    },
    {
     "data": {
      "text/plain": [
       "'Grumpy'"
      ]
     },
     "execution_count": 7,
     "metadata": {},
     "output_type": "execute_result"
    }
   ],
   "source": [
    "life = {\n",
    "    'animals': {\n",
    "        'cats': ['Henri', 'Grumpy', 'Lucy'],\n",
    "        'octopi': {},\n",
    "        'emus': {}},\n",
    "    'plants': {},\n",
    "    'other': {}\n",
    "}\n",
    "print(life)\n",
    "life['animals']['cats'][1]"
   ]
  },
  {
   "cell_type": "markdown",
   "metadata": {},
   "source": [
    "### Comprehensions"
   ]
  },
  {
   "cell_type": "markdown",
   "metadata": {
    "collapsed": true
   },
   "source": [
    "A comprehension is a compact way of creating a Python data structure from one or more iterators.  Comprehensions make it possible for you to combine loops and conditional test with a less verbose syntax.  Using a comprehension is sometimes taken as a sign that you know Python at more than a beginner's level, and is regarded as very _Pythonic_.\n",
    "\n",
    "Here's one way to make a `list` of numbers:"
   ]
  },
  {
   "cell_type": "code",
   "execution_count": 1,
   "metadata": {
    "collapsed": false
   },
   "outputs": [
    {
     "name": "stdout",
     "output_type": "stream",
     "text": [
      "[1, 2, 3, 4, 5]\n"
     ]
    }
   ],
   "source": [
    "num_list = [] #blank list\n",
    "for number in range(1, 6):\n",
    "    num_list.append(number)\n",
    "print(num_list)"
   ]
  },
  {
   "cell_type": "markdown",
   "metadata": {},
   "source": [
    "The above is valid, but you could also use a list comprehension.  The most basic form is:\n",
    "\n",
    "[`expression` for `item` in `iterable`]"
   ]
  },
  {
   "cell_type": "code",
   "execution_count": 25,
   "metadata": {
    "collapsed": false
   },
   "outputs": [
    {
     "name": "stdout",
     "output_type": "stream",
     "text": [
      "[1, 2, 3, 4, 5]\n"
     ]
    }
   ],
   "source": [
    "number_list = [number for number in range(1,6)]\n",
    "print(number_list)"
   ]
  },
  {
   "cell_type": "markdown",
   "metadata": {},
   "source": [
    "The first part, the expression, can be used to perform operations before storing the item in the list."
   ]
  },
  {
   "cell_type": "code",
   "execution_count": 26,
   "metadata": {
    "collapsed": false
   },
   "outputs": [
    {
     "name": "stdout",
     "output_type": "stream",
     "text": [
      "[1, 4, 9, 16, 25]\n"
     ]
    }
   ],
   "source": [
    "number_list2 = [number ** 2 for number in range(1,6)]\n",
    "print(number_list2)"
   ]
  },
  {
   "cell_type": "markdown",
   "metadata": {},
   "source": [
    "A list comprehension can also include a conditional:\n",
    "\n",
    "[ `expression` for `item` in `iterable` if `condition`]"
   ]
  },
  {
   "cell_type": "code",
   "execution_count": 27,
   "metadata": {
    "collapsed": false
   },
   "outputs": [
    {
     "name": "stdout",
     "output_type": "stream",
     "text": [
      "[1, 3, 5, 7, 9]\n"
     ]
    }
   ],
   "source": [
    "#A traditional way to make a list with all odd numbers.\n",
    "a_list = []\n",
    "for number in range(1, 10):\n",
    "    if number % 2 == 1:\n",
    "        a_list.append(number)\n",
    "print(a_list)"
   ]
  },
  {
   "cell_type": "markdown",
   "metadata": {},
   "source": [
    "Note: The operation `%` (prounounced mod, or modulo) returns the remainder when the number before % is divided by the number after %  \n",
    "`13 % 3 = 1`"
   ]
  },
  {
   "cell_type": "code",
   "execution_count": 28,
   "metadata": {
    "collapsed": false
   },
   "outputs": [
    {
     "name": "stdout",
     "output_type": "stream",
     "text": [
      "[1, 3, 5, 7, 9]\n"
     ]
    }
   ],
   "source": [
    "#Use a comprehension, it's more Pythonic and easier to read\n",
    "b_list = [number for number in range(1, 10) if number % 2 == 1]\n",
    "print(b_list)"
   ]
  },
  {
   "cell_type": "markdown",
   "metadata": {},
   "source": [
    "You can use multiple loops in a single comprehension:"
   ]
  },
  {
   "cell_type": "code",
   "execution_count": 29,
   "metadata": {
    "collapsed": false
   },
   "outputs": [
    {
     "name": "stdout",
     "output_type": "stream",
     "text": [
      "1 1\n",
      "1 2\n",
      "2 1\n",
      "2 2\n",
      "3 1\n",
      "3 2\n"
     ]
    }
   ],
   "source": [
    "#A traditional way to code a double loop\n",
    "rows = range(1, 4)\n",
    "cols = range(1, 3)\n",
    "for row in rows:\n",
    "    for col in cols:\n",
    "        print(row, col)"
   ]
  },
  {
   "cell_type": "code",
   "execution_count": 2,
   "metadata": {
    "collapsed": false,
    "scrolled": true
   },
   "outputs": [
    {
     "name": "stdout",
     "output_type": "stream",
     "text": [
      "[(1, 1), (1, 2), (2, 1), (2, 2), (3, 1), (3, 2)]\n"
     ]
    }
   ],
   "source": [
    "#The same result but with comprehensions\n",
    "cells = [(row, col) for row in range(1, 4) for col in range(1, 3)]\n",
    "\n",
    "print(cells)"
   ]
  },
  {
   "cell_type": "markdown",
   "metadata": {},
   "source": [
    "You can even make dictionary comprehensions, using the following form:\n",
    "\n",
    "{ `key_expression` : `value_expression` for `expression` in `iterable` }"
   ]
  },
  {
   "cell_type": "code",
   "execution_count": 15,
   "metadata": {
    "collapsed": false
   },
   "outputs": [
    {
     "name": "stdout",
     "output_type": "stream",
     "text": [
      "{'.': 1, 'y': 2, 'c': 1, 'k': 1, 'g': 1, 'l': 1, 'n': 1, 'a': 2, 'h': 4, 'b': 1, 't': 4, ' ': 9, 'u': 3, 'i': 4, 'o': 1, 'q': 1, 'r': 2, 'm': 1, 's': 3, 'p': 1, 'e': 3}\n"
     ]
    }
   ],
   "source": [
    "sentence = 'I caught this Squirtle in the park by my house.'\n",
    "\n",
    "letter_counts = {letter:sentence.lower().count(letter) for letter in sentence.lower()}\n",
    "print(letter_counts)"
   ]
  },
  {
   "cell_type": "markdown",
   "metadata": {},
   "source": [
    "There are also `set` comprehensions, and `generator` comprehensions, but they're not nearly as common.  "
   ]
  },
  {
   "cell_type": "markdown",
   "metadata": {},
   "source": [
    "### Check for Understanding: Comprehensions"
   ]
  },
  {
   "cell_type": "markdown",
   "metadata": {},
   "source": [
    "`6.`  Use a list comprehension to make a list of the even numbers in range(10).\n",
    "\n",
    "_Hint:_ use the % (modulo) to find the remainder after dividing.  \n",
    "_i.e._ 13 % 3 = 1"
   ]
  },
  {
   "cell_type": "code",
   "execution_count": 33,
   "metadata": {
    "collapsed": false
   },
   "outputs": [
    {
     "name": "stdout",
     "output_type": "stream",
     "text": [
      "[0, 2, 4, 6, 8]\n"
     ]
    }
   ],
   "source": [
    "## Your Code Here ##\n",
    "even = [x for x in range(10) if x % 2 == 0]\n",
    "print(even)"
   ]
  },
  {
   "cell_type": "markdown",
   "metadata": {},
   "source": [
    "Split the sentence below \n",
    "into words and make a list that contains the length of each word.  \n",
    "\n",
    "Your answer should be: [3, 5, 5, 3, 5, 4, 3, 4, 3]\n",
    "\n",
    "_Hint_: Strings sentence have a method for splitting them into words.  you can typ `sentence.` and press `<tab>` to find it.\n",
    "_Hint_: Use a list comprehension.  \n",
    "\n",
    "__Bonus__: keep 'the' out of this list."
   ]
  },
  {
   "cell_type": "code",
   "execution_count": 2,
   "metadata": {
    "collapsed": false
   },
   "outputs": [
    {
     "name": "stdout",
     "output_type": "stream",
     "text": [
      "[3, 5, 5, 3, 5, 4, 4, 3]\n"
     ]
    }
   ],
   "source": [
    "sentence = \"The quick brown fox jumps over the lazy dog\"\n",
    "\n",
    "## Your Code Here ##\n",
    "# letter_counts = {letter:sentence.count(letter) for letter in sentence.lower()}\n",
    "# print(letter_counts)\n",
    "word_length = [len(word) for word in sentence.split() if word != 'the']\n",
    "print(word_length)"
   ]
  },
  {
   "cell_type": "markdown",
   "metadata": {},
   "source": [
    "## Problems to solve together\n",
    "Below are some problems that we can work on solving together.  Feel free to read through them, but save the solving for when we meet."
   ]
  },
  {
   "cell_type": "markdown",
   "metadata": {},
   "source": [
    "### Caesar Cipher\n",
    "Ciphers are one of the earliest forms of encryption, and [Julius Caesar](https://en.wikipedia.org/wiki/Caesar_cipher) used them to encode his correspondence.\n",
    "\n",
    "#### How to Cipher\n",
    "Shift every letter in a sentence to the left or right a certain number of times.  \n",
    "For example: take the letter d (the fourth letter), shift left 3 to the letter 'a' (the first letter).  \n",
    "Change all d's to a's.  \n",
    "And so on for every letter in the sentence.  \n",
    "\n",
    "'Hello' (8,5,12,12,15) becomes 'Ebiil' (5,2,9,9,12)\n",
    "\n",
    "Here's a handy illustration of the process:\n",
    "\n",
    "<p><a href=\"https://commons.wikimedia.org/wiki/File:Caesar_cipher_left_shift_of_3.svg#/media/File:Caesar_cipher_left_shift_of_3.svg\"><img src=\"https://upload.wikimedia.org/wikipedia/commons/thumb/4/4a/Caesar_cipher_left_shift_of_3.svg/1200px-Caesar_cipher_left_shift_of_3.svg.png\" alt=\"Caesar cipher left shift of 3.svg\"></a><br>By Matt_Crypto - <a class=\"external free\" href=\"http://en.wikipedia.org/wiki/File:Caesar3.png\">http://en.wikipedia.org/wiki/File:Caesar3.png</a>, Public Domain, https://commons.wikimedia.org/w/index.php?curid=30693472</p>\n",
    "\n",
    "Your task is to write a script that takes a string and encrypts it using the Caesar Cipher (you can pick the amount of the shift), and prints out the encrypted message.\n",
    "\n",
    "__Assumptions:__   \n",
    "For your first attempt we will assume the message is strictly in lowercase letters.\n"
   ]
  },
  {
   "cell_type": "code",
   "execution_count": 179,
   "metadata": {
    "collapsed": false
   },
   "outputs": [
    {
     "name": "stdout",
     "output_type": "stream",
     "text": [
      "{'p': 15, 'z': 25, 'r': 17, 'y': 24, 'o': 14, 'm': 12, 's': 18, 'd': 3, 'x': 23, 'j': 9, 'v': 21, 'e': 4, 'g': 6, 'b': 1, 'h': 7, 'u': 20, 'k': 10, 'q': 16, 'n': 13, 'w': 22, 't': 19, 'c': 2, 'a': 0, 'i': 8, 'l': 11, 'f': 5}\n",
      "{0: 'a', 1: 'b', 2: 'c', 3: 'd', 4: 'e', 5: 'f', 6: 'g', 7: 'h', 8: 'i', 9: 'j', 10: 'k', 11: 'l', 12: 'm', 13: 'n', 14: 'o', 15: 'p', 16: 'q', 17: 'r', 18: 's', 19: 't', 20: 'u', 21: 'v', 22: 'w', 23: 'x', 24: 'y', 25: 'z'}\n"
     ]
    }
   ],
   "source": [
    "#Here's a handy trick to save you some typing\n",
    "from string import ascii_lowercase as letters\n",
    "let2num = {letters[x] : x for x in range(len(letters))}\n",
    "print(let2num)\n",
    "print(num2let)"
   ]
  },
  {
   "cell_type": "code",
   "execution_count": 180,
   "metadata": {
    "collapsed": false
   },
   "outputs": [
    {
     "name": "stdout",
     "output_type": "stream",
     "text": [
      " 8   2 020 6 719   0  181620 817191911 4   813  19 7 4  15 01710\n",
      " 3  -3-515 1 214  -5  131115 3121414 6-1   3 8  14 2-1  10-512 5\n",
      " d   x v p b c o   v   n l p d m o o g z   d i   o c z   k v m f"
     ]
    }
   ],
   "source": [
    "#pick your own message\n",
    "s = 'i caught a squirtle in the park'\n",
    "#select a number to shift by (-26 to positive 26)\n",
    "x = -5\n",
    "\n",
    "###your code goes here###\n",
    "\n",
    "#Create a dictionary that works the other way, numbers to letters\n",
    "num2let = {num:let for let, num in let2num.items()}\n",
    "\n",
    "#Turn each letter in the sentence into a number\n",
    "for a in s:\n",
    "    print(str(let2num.get(a, a)).rjust(2, ' '), end='')\n",
    "    \n",
    "print('')\n",
    "\n",
    "#Modify each number by the shift amount, x\n",
    "for a in s:\n",
    "    if a in let2num.keys():\n",
    "        print(str(let2num[a] + x).rjust(2, ' '), end='')\n",
    "    else:\n",
    "        print(a.rjust(2, ' '), end='')\n",
    "print('')\n",
    "\n",
    "\n",
    "#Turn the modified number back into a letter, now encrypted\n",
    "for a in s:\n",
    "    if a in let2num.keys():\n",
    "        print(str(num2let[(let2num[a] + x) % 26]).rjust(2, ' '), end='')\n",
    "    else:\n",
    "        print(a.rjust(2, ' '), end='')\n",
    "    \n",
    "\n",
    "\n",
    "#print('answer')"
   ]
  },
  {
   "cell_type": "markdown",
   "metadata": {},
   "source": [
    "If your group has time to take this farther, rewrite it as a function called `encrypt()` that has two parameters called `message` and `shift`.  This function should return `message` encrypted by a number of places equal to `shift`."
   ]
  },
  {
   "cell_type": "code",
   "execution_count": 80,
   "metadata": {
    "collapsed": false
   },
   "outputs": [],
   "source": [
    "def encrypt(message, shift):\n",
    "    '''\n",
    "    Apply a caesar cipher to the message by shift number of letters\n",
    "    '''\n",
    "    from string import ascii_lowercase as letters\n",
    "    let2num = {letters[x] : x for x in range(len(letters))}\n",
    "    num2let = {num:let for let, num in let2num.items()}\n",
    "    ans = ''\n",
    "    for a in message:\n",
    "        if a in let2num.keys():\n",
    "            ans += num2let[(let2num[a] + shift) % 26]\n",
    "        else:\n",
    "            ans += a\n",
    "    return ans"
   ]
  },
  {
   "cell_type": "code",
   "execution_count": 135,
   "metadata": {
    "collapsed": false,
    "scrolled": true
   },
   "outputs": [
    {
     "data": {
      "text/plain": [
       "'pmttw bpmzm'"
      ]
     },
     "execution_count": 135,
     "metadata": {},
     "output_type": "execute_result"
    }
   ],
   "source": [
    "encrypt('hello there', 8)"
   ]
  },
  {
   "cell_type": "code",
   "execution_count": 133,
   "metadata": {
    "collapsed": false
   },
   "outputs": [
    {
     "data": {
      "text/plain": [
       "'pmttw bpmzm!'"
      ]
     },
     "execution_count": 133,
     "metadata": {},
     "output_type": "execute_result"
    }
   ],
   "source": [
    "''.join([num2let[(let2num[x] + 8) % 26] if x in let2num.keys() else x for x in 'hello there!'])"
   ]
  },
  {
   "cell_type": "markdown",
   "metadata": {},
   "source": [
    "What if we want to allow for capital letters?  You can make new dictionaries that include capitals."
   ]
  },
  {
   "cell_type": "code",
   "execution_count": 170,
   "metadata": {
    "collapsed": false
   },
   "outputs": [
    {
     "name": "stdout",
     "output_type": "stream",
     "text": [
      "abcdefghijklmnopqrstuvwxyzABCDEFGHIJKLMNOPQRSTUVWXYZ \n",
      "\n",
      "{'I': (8, 0), 'y': (24, 1), 'M': (12, 0), 'K': (10, 0), 'm': (12, 1), 's': (18, 1), 'T': (19, 0), 'x': (23, 1), 'j': (9, 1), 'v': (21, 1), 'g': (6, 1), 'Z': (25, 0), 'b': (1, 1), 'i': (8, 1), 'n': (13, 1), 'w': (22, 1), 't': (19, 1), 'X': (23, 0), 'B': (1, 0), 'Q': (16, 0), 'f': (5, 1), 'W': (22, 0), 'p': (15, 1), 'H': (7, 0), 'z': (25, 1), 'r': (17, 1), 'o': (14, 1), 'Y': (24, 0), 'S': (18, 0), 'a': (0, 1), 'F': (5, 0), 'R': (17, 0), 'D': (3, 0), 'L': (11, 0), 'e': (4, 1), 'V': (21, 0), 'h': (7, 1), 'E': (4, 0), 'P': (15, 0), 'l': (11, 1), 'k': (10, 1), 'q': (16, 1), 'U': (20, 0), 'C': (2, 0), 'c': (2, 1), 'd': (3, 1), 'G': (6, 0), 'O': (14, 0), 'u': (20, 1), 'J': (9, 0), 'N': (13, 0), 'A': (0, 0)}\n",
      "\n",
      "{(18, 0): 'S', (12, 1): 'm', (9, 1): 'j', (3, 0): 'D', (8, 0): 'I', (2, 1): 'c', (15, 1): 'p', (25, 1): 'z', (19, 0): 'T', (5, 1): 'f', (24, 0): 'Y', (18, 1): 's', (4, 0): 'E', (9, 0): 'J', (8, 1): 'i', (21, 1): 'v', (15, 0): 'P', (25, 0): 'Z', (20, 0): 'U', (14, 1): 'o', (11, 1): 'l', (5, 0): 'F', (24, 1): 'y', (10, 0): 'K', (4, 1): 'e', (1, 1): 'b', (0, 0): 'A', (21, 0): 'V', (7, 1): 'h', (20, 1): 'u', (17, 1): 'r', (6, 0): 'G', (11, 0): 'L', (16, 0): 'Q', (10, 1): 'k', (23, 1): 'x', (1, 0): 'B', (22, 0): 'W', (0, 1): 'a', (13, 1): 'n', (7, 0): 'H', (12, 0): 'M', (17, 0): 'R', (3, 1): 'd', (16, 1): 'q', (2, 0): 'C', (23, 0): 'X', (22, 1): 'w', (19, 1): 't', (6, 1): 'g', (13, 0): 'N', (14, 0): 'O'}\n"
     ]
    }
   ],
   "source": [
    "# We need some new dictionaries that will hold two values in a tuple:\n",
    "#The place of the letter and a boolean indicator of capitalization\n",
    "from string import ascii_letters as all_letters\n",
    "print(all_letters, '\\n')\n",
    "\n",
    "new_let2num = {}\n",
    "new_num2let = {}\n",
    "for x in all_letters:\n",
    "    if x.isupper():\n",
    "        new_let2num[x] = all_letters.find(x) % 26, 0\n",
    "    else:\n",
    "        new_let2num[x] = all_letters.find(x) % 26, 1\n",
    "\n",
    "#Make a reverse of that dictionary\n",
    "for a, x in new_let2num.items():\n",
    "    new_num2let[x] = a\n",
    "\n",
    "#Let's take a look at these new variables\n",
    "print(new_let2num)\n",
    "print('')\n",
    "print(new_num2let)"
   ]
  },
  {
   "cell_type": "code",
   "execution_count": 173,
   "metadata": {
    "collapsed": false
   },
   "outputs": [
    {
     "name": "stdout",
     "output_type": "stream",
     "text": [
      "(22, 0)(7, 1)(24, 1) (7, 1)(4, 1)(11, 1)(11, 1)(14, 1) (19, 1)(7, 1)(4, 1)(17, 1)(4, 1)!\n",
      "4 0,15 1,6 1, ,15 1,12 1,19 1,19 1,22 1, ,1 1,15 1,12 1,25 1,12 1,!,\n",
      "Epg pmttw bpmzm!"
     ]
    }
   ],
   "source": [
    "#First we transform each letter into a tuple for position and capitalization.\n",
    "message = 'Why hello there!'\n",
    "for a in message:\n",
    "    if a in new_let2num.keys():\n",
    "        print(new_let2num[a], end='')\n",
    "    else:\n",
    "        print(a, end = '')\n",
    "print('')\n",
    "\n",
    "#Next we transform the first value, the position of the letter.\n",
    "for a in message:\n",
    "    if a in new_let2num.keys():\n",
    "        print((new_let2num[a][0] + 8) % 26, new_let2num[a][1], end = ',')\n",
    "    else:\n",
    "        print(a, end = ',')\n",
    "print('')\n",
    "\n",
    "#Now we can pass that transformed tuple back into the dictionary to turn it into a letter again.\n",
    "for a in message:\n",
    "    if a in new_let2num.keys():\n",
    "        print(new_num2let[((new_let2num[a][0] + 8) % 26, new_let2num[a][1])], end = '')\n",
    "    else:\n",
    "        print(a, end = '')"
   ]
  },
  {
   "cell_type": "code",
   "execution_count": 169,
   "metadata": {
    "collapsed": false
   },
   "outputs": [
    {
     "data": {
      "text/plain": [
       "'Pmttw Bpmzm!'"
      ]
     },
     "execution_count": 169,
     "metadata": {},
     "output_type": "execute_result"
    }
   ],
   "source": [
    "''.join([new_num2let[((new_let2num[a][0] + 8) % 26, new_let2num[a][1])] if a in new_let2num.keys() else a for a in 'Hello There!'])"
   ]
  },
  {
   "cell_type": "markdown",
   "metadata": {},
   "source": [
    "I think this might be a much more straightforward solution to capital letters.  Test if the letter is upper case, and provide two pathways for returning the letter."
   ]
  },
  {
   "cell_type": "code",
   "execution_count": 188,
   "metadata": {
    "collapsed": false
   },
   "outputs": [
    {
     "name": "stdout",
     "output_type": "stream",
     "text": [
      "Fmu ypc wms bmgle rmbyw Kp.?"
     ]
    }
   ],
   "source": [
    "message = 'How are you doing today Mr.?'\n",
    "x = 24\n",
    "for a in message:\n",
    "    up = a.isupper()\n",
    "    if a in all_letters:\n",
    "        if up:\n",
    "            print(num2let[(let2num[a.lower()] + x) % 26].upper(), end = '')\n",
    "        else:\n",
    "            print(num2let[(let2num[a] + x) % 26], end = '')\n",
    "    else:\n",
    "        print(a, end = '')"
   ]
  }
 ],
 "metadata": {
  "kernelspec": {
   "display_name": "Python 3",
   "language": "python",
   "name": "python3"
  },
  "language_info": {
   "codemirror_mode": {
    "name": "ipython",
    "version": 3
   },
   "file_extension": ".py",
   "mimetype": "text/x-python",
   "name": "python",
   "nbconvert_exporter": "python",
   "pygments_lexer": "ipython3",
   "version": "3.5.1"
  }
 },
 "nbformat": 4,
 "nbformat_minor": 0
}
