{
 "cells": [
  {
   "cell_type": "markdown",
   "metadata": {},
   "source": [
    "# Python Summer Sessions: Week 3"
   ]
  },
  {
   "cell_type": "markdown",
   "metadata": {},
   "source": [
    "## Dictionaries\n",
    "\n",
    "### Overview\n",
    "Dictionaries are a collection of `Key` : `Value` pairs.  \n",
    "- Keys must be unique.\n",
    "- Values can be almost any object type (integer, float, string, lists, even another dictionary.\n",
    "- Entries in a dictionary are unordered"
   ]
  },
  {
   "cell_type": "code",
   "execution_count": 1,
   "metadata": {
    "collapsed": false
   },
   "outputs": [
    {
     "name": "stdout",
     "output_type": "stream",
     "text": [
      "{'Age': 88, 'Movies': ['Steamboat Willie', 'Fantasia'], 'First Name': 'Mickey', 'Last Name': 'Mouse'}\n",
      "<class 'dict'>\n"
     ]
    }
   ],
   "source": [
    "#Create our first dictionary\n",
    "dict1 = {'First Name':'Mickey', 'Last Name':'Mouse', 'Age': 88, \n",
    "         'Movies': ['Steamboat Willie', 'Fantasia', ]}\n",
    "\n",
    "print(dict1)\n"
   ]
  },
  {
   "cell_type": "markdown",
   "metadata": {},
   "source": [
    "### Dictionary methods and attributes\n",
    "\n",
    "dict1 is an object of type dictionary.  That means we have special methods and attributes that are specific to dictionaries available."
   ]
  },
  {
   "cell_type": "code",
   "execution_count": 4,
   "metadata": {
    "collapsed": false
   },
   "outputs": [
    {
     "name": "stdout",
     "output_type": "stream",
     "text": [
      "<class 'dict'>\n"
     ]
    }
   ],
   "source": [
    "print(type(dict1))"
   ]
  },
  {
   "cell_type": "markdown",
   "metadata": {},
   "source": [
    "Execute the three statements below.  What do these three methods actually do?"
   ]
  },
  {
   "cell_type": "code",
   "execution_count": 2,
   "metadata": {
    "collapsed": false
   },
   "outputs": [
    {
     "data": {
      "text/plain": [
       "dict_keys(['Movies', 'Age', 'First Name', 'Last Name'])"
      ]
     },
     "execution_count": 2,
     "metadata": {},
     "output_type": "execute_result"
    }
   ],
   "source": [
    "dict1.keys()"
   ]
  },
  {
   "cell_type": "code",
   "execution_count": 3,
   "metadata": {
    "collapsed": false
   },
   "outputs": [
    {
     "data": {
      "text/plain": [
       "dict_values([['Steamboat Willie', 'Fantasia'], 88, 'Mickey', 'Mouse'])"
      ]
     },
     "execution_count": 3,
     "metadata": {},
     "output_type": "execute_result"
    }
   ],
   "source": [
    "dict1.values()"
   ]
  },
  {
   "cell_type": "code",
   "execution_count": 4,
   "metadata": {
    "collapsed": false,
    "scrolled": true
   },
   "outputs": [
    {
     "data": {
      "text/plain": [
       "dict_items([('Movies', ['Steamboat Willie', 'Fantasia']), ('Age', 88), ('First Name', 'Mickey'), ('Last Name', 'Mouse')])"
      ]
     },
     "execution_count": 4,
     "metadata": {},
     "output_type": "execute_result"
    }
   ],
   "source": [
    "dict1.items()"
   ]
  },
  {
   "cell_type": "markdown",
   "metadata": {},
   "source": [
    "Below, place your cursor after `dict1.` and press `<tab>`.  These are all of the attributes built into dictionaries.  \n",
    "More info here: https://docs.python.org/3.4/tutorial/datastructures.html?highlight=dictionary#dictionaries"
   ]
  },
  {
   "cell_type": "code",
   "execution_count": 41,
   "metadata": {
    "collapsed": true
   },
   "outputs": [],
   "source": [
    "dict1."
   ]
  },
  {
   "cell_type": "markdown",
   "metadata": {},
   "source": [
    "### How do I get information out of a dictionary?\n",
    "\n",
    "Use square brackets [ ] to look into a dictionary (similar to using them to index a string or list)."
   ]
  },
  {
   "cell_type": "code",
   "execution_count": 5,
   "metadata": {
    "collapsed": false,
    "scrolled": true
   },
   "outputs": [
    {
     "data": {
      "text/plain": [
       "'Mickey'"
      ]
     },
     "execution_count": 5,
     "metadata": {},
     "output_type": "execute_result"
    }
   ],
   "source": [
    "dict1['First Name']"
   ]
  },
  {
   "cell_type": "code",
   "execution_count": 6,
   "metadata": {
    "collapsed": false
   },
   "outputs": [
    {
     "data": {
      "text/plain": [
       "'Mouse'"
      ]
     },
     "execution_count": 6,
     "metadata": {},
     "output_type": "execute_result"
    }
   ],
   "source": [
    "dict1['Last Name']"
   ]
  },
  {
   "cell_type": "code",
   "execution_count": 7,
   "metadata": {
    "collapsed": false
   },
   "outputs": [
    {
     "data": {
      "text/plain": [
       "88"
      ]
     },
     "execution_count": 7,
     "metadata": {},
     "output_type": "execute_result"
    }
   ],
   "source": [
    "dict1['Age']"
   ]
  },
  {
   "cell_type": "code",
   "execution_count": 6,
   "metadata": {
    "collapsed": false
   },
   "outputs": [
    {
     "name": "stdout",
     "output_type": "stream",
     "text": [
      "['Steamboat Willie', 'Fantasia']\n",
      "Fantasia\n"
     ]
    }
   ],
   "source": [
    "#The first part returns a list, which is then indexed \"[1]\" to pull out the value at index 1.\n",
    "print(dict1['Movies'])\n",
    "print(dict1['Movies'][1])"
   ]
  },
  {
   "cell_type": "code",
   "execution_count": 9,
   "metadata": {
    "collapsed": false
   },
   "outputs": [
    {
     "ename": "KeyError",
     "evalue": "'Best movie'",
     "output_type": "error",
     "traceback": [
      "\u001b[1;31m---------------------------------------------------------------------------\u001b[0m",
      "\u001b[1;31mKeyError\u001b[0m                                  Traceback (most recent call last)",
      "\u001b[1;32m<ipython-input-9-f77387e4c12f>\u001b[0m in \u001b[0;36m<module>\u001b[1;34m()\u001b[0m\n\u001b[0;32m      1\u001b[0m \u001b[1;31m#Watch out for keys that don't exist\u001b[0m\u001b[1;33m\u001b[0m\u001b[1;33m\u001b[0m\u001b[0m\n\u001b[1;32m----> 2\u001b[1;33m \u001b[0mdict1\u001b[0m\u001b[1;33m[\u001b[0m\u001b[1;34m'Best movie'\u001b[0m\u001b[1;33m]\u001b[0m\u001b[1;33m\u001b[0m\u001b[0m\n\u001b[0m",
      "\u001b[1;31mKeyError\u001b[0m: 'Best movie'"
     ]
    }
   ],
   "source": [
    "#Watch out for keys that don't exist\n",
    "dict1['Best movie']"
   ]
  },
  {
   "cell_type": "code",
   "execution_count": 39,
   "metadata": {
    "collapsed": false
   },
   "outputs": [
    {
     "data": {
      "text/plain": [
       "'Fantasia'"
      ]
     },
     "execution_count": 39,
     "metadata": {},
     "output_type": "execute_result"
    }
   ],
   "source": [
    "#A safe workaround is the .get() method\n",
    "dict1.get('Best Movie', \"That key doesn't exist\")"
   ]
  },
  {
   "cell_type": "markdown",
   "metadata": {},
   "source": [
    "### How do I put information into a dictionary?  \n",
    "We don't have an entry in this dictionary to identify the best movie.  We'll add that now by placing the key in square brackets, and setting the value with an equal sign.\n",
    "\n",
    "dictionary[`new key`] = `value`"
   ]
  },
  {
   "cell_type": "code",
   "execution_count": 11,
   "metadata": {
    "collapsed": false,
    "scrolled": true
   },
   "outputs": [
    {
     "name": "stdout",
     "output_type": "stream",
     "text": [
      "{'Best Movie': 'Two-Gun Mickey', 'Movies': ['Steamboat Willie', 'Fantasia'], 'Age': 88, 'First Name': 'Mickey', 'Last Name': 'Mouse'}\n"
     ]
    }
   ],
   "source": [
    "dict1['Best Movie'] = 'Two-Gun Mickey'\n",
    "print(dict1)"
   ]
  },
  {
   "cell_type": "code",
   "execution_count": 15,
   "metadata": {
    "collapsed": false
   },
   "outputs": [
    {
     "data": {
      "text/plain": [
       "{'Age': 88,\n",
       " 'Best Movie': 'Two-Gun Mickey',\n",
       " 'First Name': 'Mickey',\n",
       " 'Last Name': 'Mouse',\n",
       " 'Movies': ['Steamboat Willie', 'Fantasia', 'Two-Gun Mickey']}"
      ]
     },
     "execution_count": 15,
     "metadata": {},
     "output_type": "execute_result"
    }
   ],
   "source": [
    "#Let's add Two-Gun Mickey to the list of movies as well\n",
    "#First we return the list that currently has two movies with dict1['Movies']\n",
    "#Since it's a list we can use .append to add a value to the end\n",
    "print(dict1['Movies'])\n",
    "dict1['Movies'].append('Two-Gun Mickey')\n",
    "pritn(dict1)"
   ]
  },
  {
   "cell_type": "markdown",
   "metadata": {},
   "source": [
    "Notice that we added a new `Key`:`Value` pair to the dictionary, but it's still not in any specific order."
   ]
  },
  {
   "cell_type": "code",
   "execution_count": 17,
   "metadata": {
    "collapsed": false
   },
   "outputs": [
    {
     "data": {
      "text/plain": [
       "{'Age': 88,\n",
       " 'Best Movie': 'Fantasia',\n",
       " 'First Name': 'Mickey',\n",
       " 'Last Name': 'Mouse',\n",
       " 'Movies': ['Steamboat Willie', 'Fantasia', 'Two-Gun Mickey']}"
      ]
     },
     "execution_count": 17,
     "metadata": {},
     "output_type": "execute_result"
    }
   ],
   "source": [
    "#Updating a Value: just call the existing key and set a new value.  It will overwrite whatever value was already there.\n",
    "dict1['Best Movie'] = 'Fantasia'\n",
    "dict1"
   ]
  },
  {
   "cell_type": "markdown",
   "metadata": {},
   "source": [
    "### Check for Understanding: Dictionaries\n",
    "\n",
    "- Make an English-to-French dictionary called `e2f` and `print` it.   \n",
    "\n",
    "    Here are your starter words: `dog` is `chien`, `cat` is `chat`, `walrus` is `morse`."
   ]
  },
  {
   "cell_type": "code",
   "execution_count": 18,
   "metadata": {
    "collapsed": false
   },
   "outputs": [
    {
     "name": "stdout",
     "output_type": "stream",
     "text": [
      "{'dog': 'chien', 'cat': 'chat', 'walrus': 'morse'}\n"
     ]
    }
   ],
   "source": [
    "e2f = {'dog':'chien', 'cat':'chat', 'walrus':'morse'}\n",
    "print(e2f)"
   ]
  },
  {
   "cell_type": "markdown",
   "metadata": {},
   "source": [
    "- Using your three-word dictionary e2f, print the French word for walrus."
   ]
  },
  {
   "cell_type": "code",
   "execution_count": 19,
   "metadata": {
    "collapsed": false
   },
   "outputs": [
    {
     "name": "stdout",
     "output_type": "stream",
     "text": [
      "morse\n"
     ]
    }
   ],
   "source": [
    "print(e2f['walrus'])"
   ]
  },
  {
   "cell_type": "markdown",
   "metadata": {},
   "source": [
    "- Make a French-to-English dictionary called `f2e` from `e2f` and `print` it.  \n",
    "    Use either the `items()` method or the `keys()` method."
   ]
  },
  {
   "cell_type": "code",
   "execution_count": 40,
   "metadata": {
    "collapsed": false
   },
   "outputs": [
    {
     "name": "stdout",
     "output_type": "stream",
     "text": [
      "{'morse': 'walrus', 'chat': 'cat', 'chien': 'dog'}\n",
      "{'morse': 'walrus', 'chat': 'cat', 'chien': 'dog'}\n"
     ]
    }
   ],
   "source": [
    "f2e = {}\n",
    "for e, f in e2f.items():\n",
    "    f2e[f] = e\n",
    "print(f2e)\n",
    "\n",
    "#OR\n",
    "\n",
    "f2e = {}\n",
    "for eng in e2f.keys():\n",
    "    f2e[e2f[eng]] = eng\n",
    "print(f2e)"
   ]
  },
  {
   "cell_type": "markdown",
   "metadata": {},
   "source": [
    "- Make and print a set of English words from the keys in e2f."
   ]
  },
  {
   "cell_type": "code",
   "execution_count": 23,
   "metadata": {
    "collapsed": false
   },
   "outputs": [
    {
     "name": "stdout",
     "output_type": "stream",
     "text": [
      "{'dog', 'cat', 'walrus'}\n"
     ]
    }
   ],
   "source": [
    "ans = set(e2f.keys())\n",
    "print(ans)"
   ]
  },
  {
   "cell_type": "markdown",
   "metadata": {},
   "source": [
    "- Make a multilevel dictionary called life.  Use these strings for the topmost keys: 'animals', 'plants', and 'other'.  Make the 'animals' key refer to another dictionary with the keys 'cats', 'octopi', and 'emus'.  Make the 'cats' key refer to a list of strings with the values 'Henri', 'Grumpy', and 'Lucy'.  Make all the other keys refer to empty dictionaries."
   ]
  },
  {
   "cell_type": "code",
   "execution_count": 25,
   "metadata": {
    "collapsed": false
   },
   "outputs": [
    {
     "name": "stdout",
     "output_type": "stream",
     "text": [
      "{'animals': {'emus': {}, 'octopi': {}, 'cats': ['Henri', 'Grumpy', 'Lucy']}, 'plants': {}, 'other': {}}\n"
     ]
    }
   ],
   "source": [
    "life = {\n",
    "    'animals': {\n",
    "        'cats': ['Henri', 'Grumpy', 'Lucy'],\n",
    "        'octopi': {},\n",
    "        'emus': {}},\n",
    "    'plants': {},\n",
    "    'other': {}\n",
    "}\n",
    "print(life)"
   ]
  },
  {
   "cell_type": "markdown",
   "metadata": {},
   "source": [
    "### Comprehensions"
   ]
  },
  {
   "cell_type": "markdown",
   "metadata": {
    "collapsed": true
   },
   "source": [
    "A comprehension is a compact way of creating a Python data structure from one or more iterators.  Comprehensions make it possible for you to combine loops and conditional test with a less verbose syntax.  Using a comprehension is sometimes taken as a sign that you know Python at more than a beginner's level, and is regarded as very Pythonic.\n",
    "\n",
    "Here's one way to make a `list` of numbers:"
   ]
  },
  {
   "cell_type": "code",
   "execution_count": 7,
   "metadata": {
    "collapsed": false
   },
   "outputs": [
    {
     "name": "stdout",
     "output_type": "stream",
     "text": [
      "[1, 2, 3, 4, 5]\n"
     ]
    }
   ],
   "source": [
    "num_list = [] #blank list\n",
    "for number in range(1, 6):\n",
    "    num_list.append(number)\n",
    "print(num_list)"
   ]
  },
  {
   "cell_type": "markdown",
   "metadata": {},
   "source": [
    "The above is valid, but you could also use a list comprehension.  The most basic form is:\n",
    "\n",
    "[`expression` for `item` in `iterable`]"
   ]
  },
  {
   "cell_type": "code",
   "execution_count": 27,
   "metadata": {
    "collapsed": false
   },
   "outputs": [
    {
     "name": "stdout",
     "output_type": "stream",
     "text": [
      "[1, 2, 3, 4, 5]\n"
     ]
    }
   ],
   "source": [
    "number_list = [number for number in range(1,6)]\n",
    "print(number_list)"
   ]
  },
  {
   "cell_type": "markdown",
   "metadata": {},
   "source": [
    "The first part, the expression, can be used to perform operations before storing the item in the list."
   ]
  },
  {
   "cell_type": "code",
   "execution_count": 35,
   "metadata": {
    "collapsed": false
   },
   "outputs": [
    {
     "name": "stdout",
     "output_type": "stream",
     "text": [
      "[1, 4, 9, 16, 25]\n"
     ]
    }
   ],
   "source": [
    "number_list2 = [number ** 2 for number in range(1,6)]\n",
    "print(number_list2)"
   ]
  },
  {
   "cell_type": "markdown",
   "metadata": {},
   "source": [
    "A list comprehension can also include a conditional:\n",
    "\n",
    "[ `expression` for `item` in `iterable` if `condition`]"
   ]
  },
  {
   "cell_type": "code",
   "execution_count": 31,
   "metadata": {
    "collapsed": false
   },
   "outputs": [
    {
     "name": "stdout",
     "output_type": "stream",
     "text": [
      "[1, 3, 5, 7, 9]\n"
     ]
    }
   ],
   "source": [
    "#A traditional way to make a list with all odd numbers.\n",
    "a_list = []\n",
    "for number in range(1, 10):\n",
    "    if number % 2 == 1:\n",
    "        a_list.append(number)\n",
    "print(a_list)\n",
    "\n",
    "#Note: The operation % (prounounced mod, or modulo) returns the remainder \n",
    "#when the number before the % is divided by the number after the %"
   ]
  },
  {
   "cell_type": "code",
   "execution_count": 32,
   "metadata": {
    "collapsed": false
   },
   "outputs": [
    {
     "name": "stdout",
     "output_type": "stream",
     "text": [
      "[1, 3, 5, 7, 9]\n"
     ]
    }
   ],
   "source": [
    "#Use a comprehension, it's more Pythonic and easier to read\n",
    "b_list = [number for number in range(1, 10) if number % 2 == 1]\n",
    "print(b_list)"
   ]
  },
  {
   "cell_type": "markdown",
   "metadata": {},
   "source": [
    "You can use multiple loops in a single comprehension:"
   ]
  },
  {
   "cell_type": "code",
   "execution_count": 11,
   "metadata": {
    "collapsed": false
   },
   "outputs": [
    {
     "name": "stdout",
     "output_type": "stream",
     "text": [
      "1 1\n",
      "1 2\n",
      "2 1\n",
      "2 2\n",
      "3 1\n",
      "3 2\n"
     ]
    }
   ],
   "source": [
    "#A traditional way to code a double loop\n",
    "rows = range(1, 4)\n",
    "cols = range(1, 3)\n",
    "for row in rows:\n",
    "    for col in cols:\n",
    "        print(row, col)"
   ]
  },
  {
   "cell_type": "code",
   "execution_count": 12,
   "metadata": {
    "collapsed": false,
    "scrolled": true
   },
   "outputs": [
    {
     "name": "stdout",
     "output_type": "stream",
     "text": [
      "(1, 1)\n",
      "(1, 2)\n",
      "(2, 1)\n",
      "(2, 2)\n",
      "(3, 1)\n",
      "(3, 2)\n"
     ]
    }
   ],
   "source": [
    "#The same idea but with comprehensions\n",
    "cells = [(row, col) for row in range(1, 4) for col in range(1, 3)]\n",
    "for cell in cells:\n",
    "    print(cell)"
   ]
  },
  {
   "cell_type": "markdown",
   "metadata": {},
   "source": [
    "You can even make dictionary comprehensions, using the following form:\n",
    "\n",
    "{ `key_expression` : `value_expression` for `expression` in `iterable` }"
   ]
  },
  {
   "cell_type": "code",
   "execution_count": 25,
   "metadata": {
    "collapsed": false
   },
   "outputs": [
    {
     "name": "stdout",
     "output_type": "stream",
     "text": [
      "{'r': 2, 'i': 3, 'b': 1, 'm': 1, 'o': 1, 'e': 3, 'g': 1, 'a': 2, 't': 4, 'p': 1, 's': 2, 'q': 1, 'h': 4, 'c': 1, 'y': 2, 'k': 1, '.': 1, ' ': 9, 'l': 1, 'u': 3, 'n': 1}\n"
     ]
    }
   ],
   "source": [
    "sentence = 'I caught this Squirtle in the park by my house.'\n",
    "letter_counts = {letter:sentence.count(letter) for letter in sentence.lower()}\n",
    "print(letter_counts)"
   ]
  },
  {
   "cell_type": "markdown",
   "metadata": {},
   "source": [
    "There are also `set` comprehensions, and `generator` comprehensions, but they're not nearly as common.  "
   ]
  },
  {
   "cell_type": "markdown",
   "metadata": {},
   "source": [
    "### Check for Understanding: Comprehensions"
   ]
  },
  {
   "cell_type": "markdown",
   "metadata": {},
   "source": [
    "Use a list comprehension to make a list of the even numbers in range(10).\n",
    "\n",
    "_Hint:_ use the % (modulo) to find the remainder after dividing.  \n",
    "_i.e._ 13 % 3 = 1"
   ]
  },
  {
   "cell_type": "code",
   "execution_count": null,
   "metadata": {
    "collapsed": true
   },
   "outputs": [],
   "source": []
  },
  {
   "cell_type": "markdown",
   "metadata": {},
   "source": [
    "Split the sentence below \n",
    "into words and make a list that contains the length of each word.  \n",
    "\n",
    "Your answer should be: [3, 5, 5, 3, 5, 4, 3, 4, 3]\n",
    "\n",
    "_Hint_: Strings sentence have a method for splitting them into words.  \n",
    "_Hint_: Use a list comprehension.  \n",
    "\n",
    "__Bonus__: keep 'the' out of this list."
   ]
  },
  {
   "cell_type": "code",
   "execution_count": null,
   "metadata": {
    "collapsed": true
   },
   "outputs": [],
   "source": [
    "sentence = \"the quick brown fox jumps over the lazy dog\"\n",
    "words = sentence.split()\n",
    "word_lengths = [len(word) for word in words if word != \"the\"]"
   ]
  },
  {
   "cell_type": "markdown",
   "metadata": {},
   "source": [
    "### In class exercises\n",
    "\n",
    "TBD"
   ]
  },
  {
   "cell_type": "code",
   "execution_count": null,
   "metadata": {
    "collapsed": true
   },
   "outputs": [],
   "source": []
  }
 ],
 "metadata": {
  "kernelspec": {
   "display_name": "Python 3",
   "language": "python",
   "name": "python3"
  },
  "language_info": {
   "codemirror_mode": {
    "name": "ipython",
    "version": 3
   },
   "file_extension": ".py",
   "mimetype": "text/x-python",
   "name": "python",
   "nbconvert_exporter": "python",
   "pygments_lexer": "ipython3",
   "version": "3.5.1"
  }
 },
 "nbformat": 4,
 "nbformat_minor": 0
}
