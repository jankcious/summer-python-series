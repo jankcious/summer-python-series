{
 "cells": [
  {
   "cell_type": "markdown",
   "metadata": {},
   "source": [
    "# Python Summer Sessions: Week 3\n",
    "\n",
    "## Dictionaries\n",
    "\n",
    "### Overview\n",
    "Dictionaries are a collection of `Key` : `Value` pairs.  \n",
    "- Keys must be unique, just like a real dictionary\n",
    "- Values can be almost any object type (integer, float, string, lists, even another dictionary.\n",
    "- Entries in a dictionary are unordered"
   ]
  },
  {
   "cell_type": "code",
   "execution_count": 2,
   "metadata": {
    "collapsed": false
   },
   "outputs": [
    {
     "name": "stdout",
     "output_type": "stream",
     "text": [
      "{'Movies': ['Steamboat Willie', 'Fantasia'], 'Age': 88, 'Last Name': 'Mouse', 'First Name': 'Mickey'}\n"
     ]
    }
   ],
   "source": [
    "#Create our first dictionary\n",
    "MM = {'First Name':'Mickey', 'Last Name':'Mouse', 'Age': 88, 'Movies': ['Steamboat Willie', 'Fantasia']}\n",
    "\n",
    "print(MM)"
   ]
  },
  {
   "cell_type": "markdown",
   "metadata": {},
   "source": [
    "### Dictionary methods and attributes\n",
    "\n",
    "MM is an object of type dictionary.  That means we have special methods and attributes that are specific to dictionaries available."
   ]
  },
  {
   "cell_type": "code",
   "execution_count": 3,
   "metadata": {
    "collapsed": false
   },
   "outputs": [
    {
     "name": "stdout",
     "output_type": "stream",
     "text": [
      "<class 'dict'>\n"
     ]
    }
   ],
   "source": [
    "print(type(MM))"
   ]
  },
  {
   "cell_type": "markdown",
   "metadata": {},
   "source": [
    "Execute the three statements below.  What do these three methods actually do?"
   ]
  },
  {
   "cell_type": "code",
   "execution_count": 4,
   "metadata": {
    "collapsed": false
   },
   "outputs": [
    {
     "data": {
      "text/plain": [
       "dict_keys(['Movies', 'Age', 'Last Name', 'First Name'])"
      ]
     },
     "execution_count": 4,
     "metadata": {},
     "output_type": "execute_result"
    }
   ],
   "source": [
    "MM.keys()"
   ]
  },
  {
   "cell_type": "code",
   "execution_count": 5,
   "metadata": {
    "collapsed": false
   },
   "outputs": [
    {
     "data": {
      "text/plain": [
       "dict_values([['Steamboat Willie', 'Fantasia'], 88, 'Mouse', 'Mickey'])"
      ]
     },
     "execution_count": 5,
     "metadata": {},
     "output_type": "execute_result"
    }
   ],
   "source": [
    "MM.values()"
   ]
  },
  {
   "cell_type": "code",
   "execution_count": 6,
   "metadata": {
    "collapsed": false,
    "scrolled": true
   },
   "outputs": [
    {
     "data": {
      "text/plain": [
       "dict_items([('Movies', ['Steamboat Willie', 'Fantasia']), ('Age', 88), ('Last Name', 'Mouse'), ('First Name', 'Mickey')])"
      ]
     },
     "execution_count": 6,
     "metadata": {},
     "output_type": "execute_result"
    }
   ],
   "source": [
    "MM.items()"
   ]
  },
  {
   "cell_type": "markdown",
   "metadata": {},
   "source": [
    "Below, place your cursor after `MM.` and press `<tab>`.  These are all of the methods and attributes built into dictionaries.  \n",
    "More info here: https://docs.python.org/3.4/tutorial/datastructures.html?highlight=dictionary#dictionaries"
   ]
  },
  {
   "cell_type": "code",
   "execution_count": null,
   "metadata": {
    "collapsed": true
   },
   "outputs": [],
   "source": [
    "MM."
   ]
  },
  {
   "cell_type": "markdown",
   "metadata": {},
   "source": [
    "### How do I get information out of a dictionary?\n",
    "\n",
    "Use square brackets [ ] to look into a dictionary (similar to using them to index a string or list)."
   ]
  },
  {
   "cell_type": "code",
   "execution_count": 7,
   "metadata": {
    "collapsed": false,
    "scrolled": true
   },
   "outputs": [
    {
     "data": {
      "text/plain": [
       "'Mickey'"
      ]
     },
     "execution_count": 7,
     "metadata": {},
     "output_type": "execute_result"
    }
   ],
   "source": [
    "MM['First Name']"
   ]
  },
  {
   "cell_type": "code",
   "execution_count": 8,
   "metadata": {
    "collapsed": false
   },
   "outputs": [
    {
     "data": {
      "text/plain": [
       "'Mouse'"
      ]
     },
     "execution_count": 8,
     "metadata": {},
     "output_type": "execute_result"
    }
   ],
   "source": [
    "MM['Last Name']"
   ]
  },
  {
   "cell_type": "code",
   "execution_count": 9,
   "metadata": {
    "collapsed": false
   },
   "outputs": [
    {
     "data": {
      "text/plain": [
       "88"
      ]
     },
     "execution_count": 9,
     "metadata": {},
     "output_type": "execute_result"
    }
   ],
   "source": [
    "MM['Age']"
   ]
  },
  {
   "cell_type": "code",
   "execution_count": 10,
   "metadata": {
    "collapsed": false
   },
   "outputs": [
    {
     "name": "stdout",
     "output_type": "stream",
     "text": [
      "['Steamboat Willie', 'Fantasia']\n",
      "Fantasia\n"
     ]
    }
   ],
   "source": [
    "#The first part returns a list, which is then indexed \"[1]\" to pull out the value at index 1.\n",
    "print(MM['Movies'])\n",
    "print(MM['Movies'][1])"
   ]
  },
  {
   "cell_type": "code",
   "execution_count": 11,
   "metadata": {
    "collapsed": false
   },
   "outputs": [
    {
     "ename": "KeyError",
     "evalue": "'Best movie'",
     "output_type": "error",
     "traceback": [
      "\u001b[1;31m---------------------------------------------------------------------------\u001b[0m",
      "\u001b[1;31mKeyError\u001b[0m                                  Traceback (most recent call last)",
      "\u001b[1;32m<ipython-input-11-b9f1ae2a3b95>\u001b[0m in \u001b[0;36m<module>\u001b[1;34m()\u001b[0m\n\u001b[0;32m      1\u001b[0m \u001b[1;31m#Watch out for keys that don't exist\u001b[0m\u001b[1;33m\u001b[0m\u001b[1;33m\u001b[0m\u001b[0m\n\u001b[1;32m----> 2\u001b[1;33m \u001b[0mMM\u001b[0m\u001b[1;33m[\u001b[0m\u001b[1;34m'Best movie'\u001b[0m\u001b[1;33m]\u001b[0m\u001b[1;33m\u001b[0m\u001b[0m\n\u001b[0m",
      "\u001b[1;31mKeyError\u001b[0m: 'Best movie'"
     ]
    }
   ],
   "source": [
    "#Watch out for keys that don't exist\n",
    "MM['Best movie']"
   ]
  },
  {
   "cell_type": "markdown",
   "metadata": {},
   "source": [
    "A safe workaround is the `.get()` method"
   ]
  },
  {
   "cell_type": "code",
   "execution_count": null,
   "metadata": {
    "collapsed": false
   },
   "outputs": [],
   "source": [
    "MM.get('Best Movie', 'No such key')"
   ]
  },
  {
   "cell_type": "markdown",
   "metadata": {},
   "source": [
    "### How do I put information into a dictionary?  \n",
    "We don't have an entry in this dictionary to identify the best movie.  We'll add that now by placing the key in square brackets, and setting the value with an equal sign.\n",
    "\n",
    "dictionary[`new key`] = `value`"
   ]
  },
  {
   "cell_type": "code",
   "execution_count": 12,
   "metadata": {
    "collapsed": false,
    "scrolled": true
   },
   "outputs": [
    {
     "name": "stdout",
     "output_type": "stream",
     "text": [
      "{'Movies': ['Steamboat Willie', 'Fantasia'], 'Age': 88, 'Last Name': 'Mouse', 'Best Movie': 'Two-Gun Mickey', 'First Name': 'Mickey'}\n"
     ]
    }
   ],
   "source": [
    "MM['Best Movie'] = 'Two-Gun Mickey'\n",
    "print(MM)"
   ]
  },
  {
   "cell_type": "markdown",
   "metadata": {},
   "source": [
    "Let's add Two-Gun Mickey to the list of movies as well  \n",
    "First we return the list that currently has two movies with `dict1['Movies']`  \n",
    "Since it's a list we can use `.append` to add a value to the end  "
   ]
  },
  {
   "cell_type": "code",
   "execution_count": 14,
   "metadata": {
    "collapsed": false
   },
   "outputs": [
    {
     "name": "stdout",
     "output_type": "stream",
     "text": [
      "['Steamboat Willie', 'Fantasia']\n",
      "['Steamboat Willie', 'Fantasia', 'Two-Gun Mickey']\n"
     ]
    }
   ],
   "source": [
    "print(MM['Movies'])\n",
    "MM['Movies'].append('Two-Gun Mickey')\n",
    "print(MM['Movies'])"
   ]
  },
  {
   "cell_type": "markdown",
   "metadata": {},
   "source": [
    "Updating a Value: just call the existing key and set a new value.  It will overwrite whatever value was already there."
   ]
  },
  {
   "cell_type": "code",
   "execution_count": 15,
   "metadata": {
    "collapsed": false
   },
   "outputs": [
    {
     "data": {
      "text/plain": [
       "{'Age': 88,\n",
       " 'Best Movie': 'Fantasia',\n",
       " 'First Name': 'Mickey',\n",
       " 'Last Name': 'Mouse',\n",
       " 'Movies': ['Steamboat Willie', 'Fantasia', 'Two-Gun Mickey']}"
      ]
     },
     "execution_count": 15,
     "metadata": {},
     "output_type": "execute_result"
    }
   ],
   "source": [
    "MM['Best Movie'] = 'Fantasia'\n",
    "MM"
   ]
  },
  {
   "cell_type": "markdown",
   "metadata": {},
   "source": [
    "### Check for Understanding: Dictionaries\n",
    "\n",
    "`1.`  Make an English-to-French dictionary called `e2f` and `print` it.   \n",
    "\n",
    "   Here are your starter words: `dog` is `chien`, `cat` is `chat`, `walrus` is `morse`."
   ]
  },
  {
   "cell_type": "code",
   "execution_count": 18,
   "metadata": {
    "collapsed": false
   },
   "outputs": [
    {
     "name": "stdout",
     "output_type": "stream",
     "text": [
      "morse\n"
     ]
    }
   ],
   "source": [
    "e2f = {'dog':'chien', 'cat':'chat', 'walrus':'morse'}\n"
   ]
  },
  {
   "cell_type": "markdown",
   "metadata": {},
   "source": [
    "`2.` Using your three-word dictionary e2f, print the French word for walrus."
   ]
  },
  {
   "cell_type": "code",
   "execution_count": 19,
   "metadata": {
    "collapsed": false
   },
   "outputs": [
    {
     "name": "stdout",
     "output_type": "stream",
     "text": [
      "morse\n"
     ]
    }
   ],
   "source": [
    "print(e2f['walrus'])\n",
    "#I'll take that as a no"
   ]
  },
  {
   "cell_type": "markdown",
   "metadata": {},
   "source": [
    "`3.`  Make a French-to-English dictionary called `f2e` from `e2f` and `print` it.  \n",
    "    _hint_: Use either the `items()` method or the `keys()` method."
   ]
  },
  {
   "cell_type": "code",
   "execution_count": 20,
   "metadata": {
    "collapsed": false
   },
   "outputs": [
    {
     "name": "stdout",
     "output_type": "stream",
     "text": [
      "cat\n",
      "chat\n",
      "dog\n",
      "chien\n",
      "walrus\n",
      "morse\n"
     ]
    }
   ],
   "source": [
    "f2e = {}\n",
    "\n",
    "for eng, fr in e2f.items():\n",
    "    print(eng)\n",
    "    print(fr)\n",
    "    #your code here\n",
    " \n",
    "\n",
    "\n",
    "#OR\n",
    "\n",
    "#for eng in e2f.keys():\n",
    "    #your code here"
   ]
  },
  {
   "cell_type": "markdown",
   "metadata": {},
   "source": [
    "`4.`  Make and print a set of English words from the keys in e2f."
   ]
  },
  {
   "cell_type": "code",
   "execution_count": null,
   "metadata": {
    "collapsed": false
   },
   "outputs": [],
   "source": []
  },
  {
   "cell_type": "markdown",
   "metadata": {},
   "source": [
    "`5.` Make a multilevel dictionary called life.  Use these strings for the topmost keys: 'animals', 'plants', and 'other'.  Make the 'animals' key refer to another dictionary with the keys 'cats', 'octopi', and 'emus'.  Make the 'cats' key refer to a list of strings with the values 'Henri', 'Grumpy', and 'Lucy'.  Make all the other keys refer to empty dictionaries."
   ]
  },
  {
   "cell_type": "code",
   "execution_count": null,
   "metadata": {
    "collapsed": false
   },
   "outputs": [],
   "source": []
  },
  {
   "cell_type": "markdown",
   "metadata": {},
   "source": [
    "### Comprehensions"
   ]
  },
  {
   "cell_type": "markdown",
   "metadata": {
    "collapsed": true
   },
   "source": [
    "A comprehension is a compact way of creating a Python data structure from one or more iterators.  Comprehensions make it possible for you to combine loops and conditional test with a less verbose syntax.  Using a comprehension is sometimes taken as a sign that you know Python at more than a beginner's level, and is regarded as very _Pythonic_.\n",
    "\n",
    "Here's one way to make a `list` of numbers:"
   ]
  },
  {
   "cell_type": "code",
   "execution_count": null,
   "metadata": {
    "collapsed": false
   },
   "outputs": [],
   "source": [
    "num_list = [] #blank list\n",
    "for number in range(1, 6):\n",
    "    num_list.append(number)\n",
    "print(num_list)"
   ]
  },
  {
   "cell_type": "markdown",
   "metadata": {},
   "source": [
    "The above is valid, but you could also use a list comprehension.  The most basic form is:\n",
    "\n",
    "[`expression` for `item` in `iterable`]"
   ]
  },
  {
   "cell_type": "code",
   "execution_count": null,
   "metadata": {
    "collapsed": false
   },
   "outputs": [],
   "source": [
    "number_list = [number for number in range(1,6)]\n",
    "print(number_list)"
   ]
  },
  {
   "cell_type": "markdown",
   "metadata": {},
   "source": [
    "The first part, the expression, can be used to perform operations before storing the item in the list."
   ]
  },
  {
   "cell_type": "code",
   "execution_count": null,
   "metadata": {
    "collapsed": false
   },
   "outputs": [],
   "source": [
    "number_list2 = [number ** 2 for number in range(1,6)]\n",
    "print(number_list2)"
   ]
  },
  {
   "cell_type": "markdown",
   "metadata": {},
   "source": [
    "A list comprehension can also include a conditional:\n",
    "\n",
    "[ `expression` for `item` in `iterable` if `condition`]"
   ]
  },
  {
   "cell_type": "code",
   "execution_count": null,
   "metadata": {
    "collapsed": false
   },
   "outputs": [],
   "source": [
    "#A traditional way to make a list with all odd numbers.\n",
    "a_list = []\n",
    "for number in range(1, 10):\n",
    "    if number % 2 == 1:\n",
    "        a_list.append(number)\n",
    "print(a_list)"
   ]
  },
  {
   "cell_type": "markdown",
   "metadata": {},
   "source": [
    "Note: The operation `%` (prounounced mod, or modulo) returns the remainder when the number before % is divided by the number after %  \n",
    "`13 % 3 = 1`"
   ]
  },
  {
   "cell_type": "code",
   "execution_count": null,
   "metadata": {
    "collapsed": false
   },
   "outputs": [],
   "source": [
    "#Use a comprehension, it's more Pythonic and easier to read\n",
    "b_list = [number for number in range(1, 10) if number % 2 == 1]\n",
    "print(b_list)"
   ]
  },
  {
   "cell_type": "markdown",
   "metadata": {},
   "source": [
    "You can use multiple loops in a single comprehension:"
   ]
  },
  {
   "cell_type": "code",
   "execution_count": null,
   "metadata": {
    "collapsed": false
   },
   "outputs": [],
   "source": [
    "#A traditional way to code a double loop\n",
    "rows = range(1, 4)\n",
    "cols = range(1, 3)\n",
    "for row in rows:\n",
    "    for col in cols:\n",
    "        print(row, col)"
   ]
  },
  {
   "cell_type": "code",
   "execution_count": null,
   "metadata": {
    "collapsed": false,
    "scrolled": true
   },
   "outputs": [],
   "source": [
    "#The same result but with comprehensions\n",
    "cells = [(row, col) for row in range(1, 4) for col in range(1, 3)]\n",
    "for cell in cells:\n",
    "    print(cell)"
   ]
  },
  {
   "cell_type": "markdown",
   "metadata": {},
   "source": [
    "You can even make dictionary comprehensions, using the following form:\n",
    "\n",
    "{ `key_expression` : `value_expression` for `expression` in `iterable` }"
   ]
  },
  {
   "cell_type": "code",
   "execution_count": null,
   "metadata": {
    "collapsed": false
   },
   "outputs": [],
   "source": [
    "sentence = 'I caught this Squirtle in the park by my house.'\n",
    "letter_counts = {letter:sentence.count(letter) for letter in sentence.lower()}\n",
    "print(letter_counts)"
   ]
  },
  {
   "cell_type": "markdown",
   "metadata": {},
   "source": [
    "There are also `set` comprehensions, and `generator` comprehensions, but they're not nearly as common.  "
   ]
  },
  {
   "cell_type": "markdown",
   "metadata": {},
   "source": [
    "### Check for Understanding: Comprehensions"
   ]
  },
  {
   "cell_type": "markdown",
   "metadata": {},
   "source": [
    "`6.`  Use a list comprehension to make a list of the even numbers in range(10).\n",
    "\n",
    "_Hint:_ use the % (modulo) to find the remainder after dividing.  \n",
    "_i.e._ 13 % 3 = 1"
   ]
  },
  {
   "cell_type": "code",
   "execution_count": null,
   "metadata": {
    "collapsed": true
   },
   "outputs": [],
   "source": [
    "## Your Code Here ##"
   ]
  },
  {
   "cell_type": "markdown",
   "metadata": {},
   "source": [
    "Split the sentence below \n",
    "into words and make a list that contains the length of each word.  \n",
    "\n",
    "Your answer should be: [3, 5, 5, 3, 5, 4, 3, 4, 3]\n",
    "\n",
    "_Hint_: Strings sentence have a method for splitting them into words.  you can type `sentence.` and press `<tab>` to find it.  \n",
    "_Hint_: Use a list comprehension.  \n",
    "\n",
    "__Bonus__: keep 'the' out of this list."
   ]
  },
  {
   "cell_type": "code",
   "execution_count": null,
   "metadata": {
    "collapsed": true
   },
   "outputs": [],
   "source": [
    "sentence = \"the quick brown fox jumps over the lazy dog\"\n",
    "\n",
    "## Your Code Here ##"
   ]
  },
  {
   "cell_type": "markdown",
   "metadata": {},
   "source": [
    "## Problems to solve together\n",
    "Below are some problems that we can work on solving together.  Feel free to read through them, but save the solving for when we meet."
   ]
  },
  {
   "cell_type": "markdown",
   "metadata": {},
   "source": [
    "### Caesar Cipher\n",
    "Ciphers are one of the earliest forms of encryption, and [Julius Caesar](https://en.wikipedia.org/wiki/Caesar_cipher) used them to encode his correspondence.\n",
    "\n",
    "#### How to Cipher\n",
    "Shift every letter in a sentence to the left or right a certain number of times.  \n",
    "For example: take the letter d (the fourth letter), shift left 3 to the letter 'a' (the first letter).  \n",
    "Change all d's to a's.  \n",
    "And so on for every letter in the sentence.  \n",
    "\n",
    "'Hello' (8,5,12,12,15) becomes 'Ebiil' (5,2,9,9,12)\n",
    "\n",
    "Here's a handy illustration of the process:\n",
    "\n",
    "<p><a href=\"https://commons.wikimedia.org/wiki/File:Caesar_cipher_left_shift_of_3.svg#/media/File:Caesar_cipher_left_shift_of_3.svg\"><img src=\"https://upload.wikimedia.org/wikipedia/commons/thumb/4/4a/Caesar_cipher_left_shift_of_3.svg/1200px-Caesar_cipher_left_shift_of_3.svg.png\" alt=\"Caesar cipher left shift of 3.svg\"></a><br>By Matt_Crypto - <a class=\"external free\" href=\"http://en.wikipedia.org/wiki/File:Caesar3.png\">http://en.wikipedia.org/wiki/File:Caesar3.png</a>, Public Domain, https://commons.wikimedia.org/w/index.php?curid=30693472</p>\n",
    "\n",
    "Your task is to write a script that takes a string and encrypts it using the Caesar Cipher (you can pick the amount of the shift), and prints out the encrypted message.\n",
    "\n",
    "__Assumptions:__   \n",
    "For your first attempt we will assume the message is strictly in lowercase letters.\n"
   ]
  },
  {
   "cell_type": "code",
   "execution_count": 1,
   "metadata": {
    "collapsed": false
   },
   "outputs": [
    {
     "name": "stdout",
     "output_type": "stream",
     "text": [
      "abcdefghijklmnopqrstuvwxyz\n",
      "{'x': 24, 'i': 9, 'p': 16, 'e': 5, 'a': 1, 's': 19, 'm': 13, 'h': 8, 'y': 25, 'f': 6, 'n': 14, 'z': 26, 'l': 12, 'w': 23, 'j': 10, 'b': 2, 'r': 18, 't': 20, 'k': 11, 'c': 3, 'v': 22, 'g': 7, 'u': 21, 'o': 15, 'd': 4, 'q': 17}\n"
     ]
    }
   ],
   "source": [
    "#Here's a handy trick to save you some typing\n",
    "from string import ascii_lowercase as letters\n",
    "print(letters)\n",
    "let2num = {letters[x] : x + 1 for x in range(len(letters))}\n",
    "print(let2num)"
   ]
  },
  {
   "cell_type": "code",
   "execution_count": null,
   "metadata": {
    "collapsed": false
   },
   "outputs": [],
   "source": [
    "#pick your own message\n",
    "s = ''\n",
    "#select a number to shift by (-26 to positive 26)\n",
    "x = \n",
    "\n",
    "###your code goes here###\n",
    "\n",
    "\n",
    "#Finally, print out your encrypted string\n",
    "print(answer)"
   ]
  },
  {
   "cell_type": "markdown",
   "metadata": {},
   "source": [
    "If your group has time to take this farther, rewrite it as a function called `encrypt()` that has two parameters called `message` and `shift`.  This function should return `message` encrypted by a number of places equal to `shift`."
   ]
  }
 ],
 "metadata": {
  "kernelspec": {
   "display_name": "Python 3",
   "language": "python",
   "name": "python3"
  },
  "language_info": {
   "codemirror_mode": {
    "name": "ipython",
    "version": 3
   },
   "file_extension": ".py",
   "mimetype": "text/x-python",
   "name": "python",
   "nbconvert_exporter": "python",
   "pygments_lexer": "ipython3",
   "version": "3.5.1"
  }
 },
 "nbformat": 4,
 "nbformat_minor": 0
}
