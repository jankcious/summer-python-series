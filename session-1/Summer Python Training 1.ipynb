{
 "cells": [
  {
   "cell_type": "markdown",
   "metadata": {},
   "source": [
    "# Rabbit test subjects\n",
    "\n",
    "The diabolical Professor Boolean has captured you and a group of your hapless rabbit kin as test subjects for his terrible experiments! You're not sure what his real plans are, but currently it seems he's trying to make everyone faster and smarter? He's exposing rabbit test subjects to novel chemicals, genetic manipulations, and pathogens; then measuring their completion time for various puzzles and exercises. Then again, there's a rumor he's developing a kind of zombie rabbit. You don't want to become a zombit!\n",
    "\n",
    "Unfortunately, due to insubordination and laziness, Professor Boolean just \"eliminated\" the lab assistant tracking all data from this research. Now, he's forcing you to sort through the notes and find something useful from the chaos. You have no choice but to abide by your captors evil rules. For now.\n",
    "\n",
    "Of the subjects that have survived, each has a distinct file, with anywhere from 1 to 100 measurements of completion time for the tests. The measurements from the before and after cases are listed separately, but the ordering has been mixed up. You have to figure out the degree of improvement (0% to 99%, rounded to the nearest whole number) based on the two lists of results.\n",
    "\n",
    "For example, if the first list of times is [22.2, 46, 100.8] and the second list is [23, 11.1, 50.4] you would return 50, because the times got 50% shorter: the 22.2 entry improved to 11.1, the 46 improved to 23, and the 100.8 improved to 50.4. Even though the data points are in different order, each improves by the same amount.\n",
    "\n",
    "Write a function answer(x, y) which takes two lists of floating point performance scores and returns the improvement percentage, rounded to the nearest integer.\n",
    "\n",
    "# Test cases\n",
    "\n",
    "\n",
    "Inputs:\n",
    "   (double list) y = [1.0]\n",
    "   (double list) x = [1.0]\n",
    "Output:\n",
    "   (int) 0\n",
    "\n",
    "Inputs:\n",
    "   (double list) y = [2.2999999999999998, 15.0, 102.40000000000001, 3486.8000000000002]\n",
    "   (double list) x = [23.0, 150.0, 1024.0, 34868.0]\n",
    "Output:\n",
    "   (int) 90\n",
    "\n",
    "\n",
    "Constraints\n",
    "\n",
    "# Python\n",
    "\n",
    "Your code will run inside a Python 2.7.6 sandbox. (KN edit: v3 is OK too)\n",
    "\n",
    "Standard libraries are supported except for bz2, crypt, fcntl, mmap, pwd, pyexpat, select, signal, termios, thread, time, unicodedata, zipimport, zlib.\n",
    "\n"
   ]
  },
  {
   "cell_type": "markdown",
   "metadata": {},
   "source": [
    "## Solved with a For Loop:"
   ]
  },
  {
   "cell_type": "code",
   "execution_count": 4,
   "metadata": {
    "collapsed": false
   },
   "outputs": [],
   "source": [
    "list1 = [22.2, 46, 100.8]\n",
    "list2 = [23, 11.1, 50.4]\n",
    "\n",
    "def sort_percent_for(list1, list2):\n",
    "    assert len(list1) == len(list2)\n",
    "    ans = []\n",
    "    list1 = sorted(list1)\n",
    "    list2 = sorted(list2)\n",
    "    for x in range(len(list1)):\n",
    "        diff = list1[x] - list2[x]\n",
    "        pct = diff / list1[x]\n",
    "        pct *= 100\n",
    "        pct = int(pct)\n",
    "        ans.append(pct)\n",
    "    return ans"
   ]
  },
  {
   "cell_type": "code",
   "execution_count": 5,
   "metadata": {
    "collapsed": false,
    "scrolled": true
   },
   "outputs": [
    {
     "data": {
      "text/plain": [
       "[50, 50, 50]"
      ]
     },
     "execution_count": 5,
     "metadata": {},
     "output_type": "execute_result"
    }
   ],
   "source": [
    "sort_percent_for(list1, list2)"
   ]
  },
  {
   "cell_type": "markdown",
   "metadata": {},
   "source": [
    "## Solved with a List Comprehension"
   ]
  },
  {
   "cell_type": "code",
   "execution_count": 7,
   "metadata": {
    "collapsed": true
   },
   "outputs": [],
   "source": [
    "list1 = [22.2, 46, 100.8]\n",
    "list2 = [23, 11.1, 50.4]\n",
    "\n",
    "def sort_percent(list1, list2):\n",
    "    #Sort both lists so they can be compared elementwise.  Two different ways to sort:\n",
    "    list1 = sorted(list1) #can be used on any iterable\n",
    "    list2.sort()\n",
    "    #Calculate the difference elementwise across the two lists and divide by the original value.  Then scale to percent.\n",
    "    percents = [int((list1[x] - list2[x]) / list1[x] * 100) for x in range(len(list1))]\n",
    "    return percents"
   ]
  },
  {
   "cell_type": "code",
   "execution_count": 8,
   "metadata": {
    "collapsed": false
   },
   "outputs": [
    {
     "data": {
      "text/plain": [
       "[50, 50, 50]"
      ]
     },
     "execution_count": 8,
     "metadata": {},
     "output_type": "execute_result"
    }
   ],
   "source": [
    "sort_percent(list1, list2)"
   ]
  },
  {
   "cell_type": "markdown",
   "metadata": {},
   "source": [
    "## Solved using NumPy"
   ]
  },
  {
   "cell_type": "code",
   "execution_count": 9,
   "metadata": {
    "collapsed": true
   },
   "outputs": [],
   "source": [
    "import numpy as np"
   ]
  },
  {
   "cell_type": "code",
   "execution_count": 10,
   "metadata": {
    "collapsed": false
   },
   "outputs": [],
   "source": [
    "def sort_percent_np(list1, list2):\n",
    "    list1.sort()\n",
    "    list2.sort()\n",
    "    ans = (list1 - list2) / list1 * 100\n",
    "    return ans.astype(int)"
   ]
  },
  {
   "cell_type": "code",
   "execution_count": 11,
   "metadata": {
    "collapsed": false
   },
   "outputs": [
    {
     "data": {
      "text/plain": [
       "array([50, 50, 50])"
      ]
     },
     "execution_count": 11,
     "metadata": {},
     "output_type": "execute_result"
    }
   ],
   "source": [
    "list1 = np.array([22.2, 46, 100.8])\n",
    "list2 = np.array([23, 11.1, 50.4])\n",
    "\n",
    "sort_percent_np(list1, list2)"
   ]
  },
  {
   "cell_type": "markdown",
   "metadata": {},
   "source": [
    "## Test Cases"
   ]
  },
  {
   "cell_type": "code",
   "execution_count": 12,
   "metadata": {
    "collapsed": false
   },
   "outputs": [
    {
     "data": {
      "text/plain": [
       "[0]"
      ]
     },
     "execution_count": 12,
     "metadata": {},
     "output_type": "execute_result"
    }
   ],
   "source": [
    "sort_percent([1.0], [1.0])"
   ]
  },
  {
   "cell_type": "code",
   "execution_count": 13,
   "metadata": {
    "collapsed": false
   },
   "outputs": [
    {
     "data": {
      "text/plain": [
       "[90, 90, 90, 90]"
      ]
     },
     "execution_count": 13,
     "metadata": {},
     "output_type": "execute_result"
    }
   ],
   "source": [
    "sort_percent([23.0, 150.0, 1024.0, 34868.0],[2.2999999999999998, 15.0, 102.40000000000001, 3486.8000000000002])"
   ]
  }
 ],
 "metadata": {
  "kernelspec": {
   "display_name": "Python 3",
   "language": "python",
   "name": "python3"
  },
  "language_info": {
   "codemirror_mode": {
    "name": "ipython",
    "version": 3
   },
   "file_extension": ".py",
   "mimetype": "text/x-python",
   "name": "python",
   "nbconvert_exporter": "python",
   "pygments_lexer": "ipython3",
   "version": "3.5.1"
  }
 },
 "nbformat": 4,
 "nbformat_minor": 0
}
